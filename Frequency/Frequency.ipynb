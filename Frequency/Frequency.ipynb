{
 "cells": [
  {
   "cell_type": "code",
   "execution_count": 1,
   "metadata": {},
   "outputs": [
    {
     "name": "stderr",
     "output_type": "stream",
     "text": [
      "/home/ps/anaconda2/lib/python2.7/site-packages/h5py/__init__.py:36: FutureWarning: Conversion of the second argument of issubdtype from `float` to `np.floating` is deprecated. In future, it will be treated as `np.float64 == np.dtype(float).type`.\n",
      "  from ._conv import register_converters as _register_converters\n"
     ]
    }
   ],
   "source": [
    "import numpy as np\n",
    "import pickle\n",
    "from sklearn.model_selection import train_test_split\n",
    "import tensorflow as tf\n",
    "np.set_printoptions(threshold=np.nan)"
   ]
  },
  {
   "cell_type": "code",
   "execution_count": 2,
   "metadata": {},
   "outputs": [],
   "source": [
    "max_num_phonemes = 10   #get from data... Setting to 10 for example only\n",
    "batch_size = 32\n",
    "speak_feats = 16 #features in speaker embedding\n",
    "phoneme_feats = 16\n",
    "num_time_buckets = 250 ##need to set this to the right quantity\n",
    "\n",
    "# with open(\"dataset/speakers_count.pkl\") as f:\n",
    "#     max_frames, speakers, count = pickle.load(f)\n",
    "#     print len(speakers)  #number of speakers\n",
    "#     print count    #no. of dataset files\n",
    "\n",
    "phoneme_count = 40   #take form list\n",
    "\n",
    "num_speakers = 108  #Get from file \n",
    "\n",
    "mlp_layers = 4 #number of layers in MLP\n",
    "mlp_units = 256 #number of units in each MLP layer\n",
    "\n",
    "num_rnn_layers = 3  #number of layers in RNN network\n",
    "num_hidden_gru = 512 #number of hidden units in each RNN layer\n",
    "\n",
    "output_size = 32\n",
    "\n",
    "conv_filter_widths = [3,6,15,30]\n",
    "\n",
    "dataset_mean = 0 ##READ FROM FILE\n",
    "dataset_std_dev = 1 ##READ FROM FILE\n",
    "\n",
    "max_frames = 0  #get from duration prediction model\n",
    "\n",
    "#phonemes\n",
    "silence = \"SIL\"\n",
    "\n",
    "phonemes = [silence,'AA','AE','AH','AO','AW','AY','B','CH','D','DH','EH',\n",
    "            'ER','EY','F','G','HH','IH','IY','JH','K','L','M','N','NG','OW','OY',\n",
    "            'P','R','S','SH','T','TH','UH','UW','V','W','Y','Z','ZH']"
   ]
  },
  {
   "cell_type": "code",
   "execution_count": 3,
   "metadata": {},
   "outputs": [],
   "source": [
    "x = tf.placeholder(tf.float32, [batch_size, max_num_phonemes,phoneme_count]) #Phonemes whose frequency is to be predicted, one phoeneme at a time\n",
    "\n",
    "y_inp = tf.placeholder(tf.float32, [batch_size,max_num_phonemes])  #ground truth Fundamental Frequencies\n",
    "\n",
    "y_length = tf.placeholder(tf.int32, [batch_size]) #stores length of sequence of phonemes for the batch\n",
    "\n",
    "speaker_selector = tf.placeholder(tf.float32, [batch_size, num_speakers]) #One hot speaker selector matrix"
   ]
  },
  {
   "cell_type": "code",
   "execution_count": 4,
   "metadata": {},
   "outputs": [
    {
     "data": {
      "text/plain": [
       "<tf.Tensor 'speaker_embedding/MatMul:0' shape=(32, 16) dtype=float32>"
      ]
     },
     "execution_count": 4,
     "metadata": {},
     "output_type": "execute_result"
    }
   ],
   "source": [
    "#Create speaker embedding\n",
    "with tf.variable_scope(\"speaker_embedding\"):\n",
    "    speaker = tf.get_variable(\"speaker\",\n",
    "                              shape=(num_speakers,speak_feats),\n",
    "                              dtype= tf.float32,\n",
    "                              initializer=tf.contrib.layers.xavier_initializer(),\n",
    "                              trainable=True)\n",
    "    speaker_matrix = tf.matmul(speaker_selector, speaker)\n",
    "speaker_matrix"
   ]
  },
  {
   "cell_type": "code",
   "execution_count": 5,
   "metadata": {},
   "outputs": [
    {
     "data": {
      "text/plain": [
       "<tf.Tensor 'phoneme_embedding/Reshape_1:0' shape=(32, 10, 16) dtype=float32>"
      ]
     },
     "execution_count": 5,
     "metadata": {},
     "output_type": "execute_result"
    }
   ],
   "source": [
    "with tf.variable_scope(\"phoneme_embedding\"):\n",
    "    phoneme_emb = tf.get_variable(\"phoneme_emb\",\n",
    "                              shape=(len(phonemes),phoneme_feats),\n",
    "                              dtype= tf.float32,\n",
    "                              initializer=tf.contrib.layers.xavier_initializer(),\n",
    "                              trainable=True)\n",
    "    unstacked_x = tf.reshape(x, [-1,len(phonemes)])\n",
    "    phoneme_array = tf.matmul(unstacked_x, phoneme_emb)\n",
    "    phoneme_matrix = tf.reshape(phoneme_array,[batch_size, max_num_phonemes,phoneme_feats])\n",
    "phoneme_matrix"
   ]
  },
  {
   "cell_type": "code",
   "execution_count": 6,
   "metadata": {},
   "outputs": [
    {
     "data": {
      "text/plain": [
       "<tf.Tensor 'rnn_speaker/fully_connected/BiasAdd:0' shape=(32, 512) dtype=float32>"
      ]
     },
     "execution_count": 6,
     "metadata": {},
     "output_type": "execute_result"
    }
   ],
   "source": [
    "#fully connected layer that takes speaker as the input and sends state to the Bidirectional Gru layers\n",
    "with tf.variable_scope(\"rnn_speaker\"):\n",
    "    rnn_speaker_outputs = num_hidden_gru\n",
    "    rnn_speaker = tf.contrib.layers.fully_connected(speaker_matrix,\n",
    "                                                    rnn_speaker_outputs,\n",
    "                                                    activation_fn= None)\n",
    "rnn_speaker"
   ]
  },
  {
   "cell_type": "code",
   "execution_count": 7,
   "metadata": {},
   "outputs": [
    {
     "data": {
      "text/plain": [
       "<tf.Tensor 'RNN_BI3/concat:0' shape=(32, 10, 1024) dtype=float32>"
      ]
     },
     "execution_count": 7,
     "metadata": {},
     "output_type": "execute_result"
    }
   ],
   "source": [
    "def gru_cell():\n",
    "    return tf.nn.rnn_cell.GRUCell(num_hidden_gru)\n",
    "\n",
    "inputs = x\n",
    "\n",
    "#creating the BiDirectional GRU layers\n",
    "for i in range(num_rnn_layers):\n",
    "    with tf.variable_scope(\"RNN_BI\"+str(i+1)):\n",
    "        output_rnn1, output_states = tf.nn.bidirectional_dynamic_rnn(gru_cell(),\n",
    "                                                                 gru_cell(),\n",
    "                                                                 inputs,\n",
    "                                                                 initial_state_fw = rnn_speaker,\n",
    "                                                                 initial_state_bw = rnn_speaker)\n",
    "        inputs = tf.concat(output_rnn1, axis = 2)\n",
    "        \n",
    "rnn_output1 = inputs\n",
    "rnn_output1"
   ]
  },
  {
   "cell_type": "code",
   "execution_count": 8,
   "metadata": {},
   "outputs": [
    {
     "data": {
      "text/plain": [
       "<tf.Tensor 'FC_1/fully_connected/Sigmoid:0' shape=(32, 10, 1) dtype=float32>"
      ]
     },
     "execution_count": 8,
     "metadata": {},
     "output_type": "execute_result"
    }
   ],
   "source": [
    "#Fully connected layer for second BI-GRU layer\n",
    "with tf.variable_scope(\"FC_1\"):\n",
    "\n",
    "    omega = tf.contrib.layers.fully_connected(rnn_output1,\n",
    "                                                    1,\n",
    "                                                    activation_fn= tf.nn.sigmoid)\n",
    "    \n",
    "omega"
   ]
  },
  {
   "cell_type": "code",
   "execution_count": 9,
   "metadata": {},
   "outputs": [
    {
     "data": {
      "text/plain": [
       "<tf.Tensor 'Voice_Prob/fully_connected/Sigmoid:0' shape=(32, 10, 1) dtype=float32>"
      ]
     },
     "execution_count": 9,
     "metadata": {},
     "output_type": "execute_result"
    }
   ],
   "source": [
    "#Voice prediction\n",
    "with tf.variable_scope(\"Voice_Prob\"):\n",
    "    prob_voiced = tf.contrib.layers.fully_connected(rnn_output1,\n",
    "                                                    1,\n",
    "                                                    activation_fn= tf.nn.sigmoid)\n",
    "    \n",
    "prob_voiced"
   ]
  },
  {
   "cell_type": "code",
   "execution_count": 10,
   "metadata": {},
   "outputs": [
    {
     "data": {
      "text/plain": [
       "<tf.Tensor 'BI_GRU/concat:0' shape=(32, 10, 1024) dtype=float32>"
      ]
     },
     "execution_count": 10,
     "metadata": {},
     "output_type": "execute_result"
    }
   ],
   "source": [
    "with tf.variable_scope(\"BI_GRU\"):\n",
    "    g_cell1 = gru_cell()\n",
    "    g_cell2 = gru_cell()\n",
    "    output_rnn2, output_state = tf.nn.bidirectional_dynamic_rnn(g_cell1,\n",
    "                                             g_cell2,\n",
    "                                             rnn_output1,\n",
    "                                             initial_state_fw = g_cell1.zero_state(batch_size, tf.float32),\n",
    "                                             initial_state_bw = g_cell2.zero_state(batch_size, tf.float32))\n",
    "    output_rnn2 = tf.concat(output_rnn2, axis = 2)\n",
    "output_rnn2"
   ]
  },
  {
   "cell_type": "code",
   "execution_count": 11,
   "metadata": {},
   "outputs": [
    {
     "data": {
      "text/plain": [
       "<tf.Tensor 'FC_2/fully_connected/BiasAdd:0' shape=(32, 10, 1) dtype=float32>"
      ]
     },
     "execution_count": 11,
     "metadata": {},
     "output_type": "execute_result"
    }
   ],
   "source": [
    "#Fully connected layer for second BI-GRU layer\n",
    "with tf.variable_scope(\"FC_2\"):\n",
    "    num_output_rnn2 = output_size\n",
    "    f_GRU = tf.contrib.layers.fully_connected(output_rnn2,\n",
    "                                                    1,\n",
    "                                                    activation_fn= None)\n",
    "    \n",
    "f_GRU"
   ]
  },
  {
   "cell_type": "code",
   "execution_count": 12,
   "metadata": {},
   "outputs": [
    {
     "data": {
      "text/plain": [
       "<tf.Tensor 'Speaker_Mean/add:0' shape=(32, 1) dtype=float32>"
      ]
     },
     "execution_count": 12,
     "metadata": {},
     "output_type": "execute_result"
    }
   ],
   "source": [
    "#Speaker embedding for mean prediction\n",
    "with tf.variable_scope(\"Speaker_Mean\"):\n",
    "    speaker_mean = tf.contrib.layers.fully_connected(speaker_matrix,\n",
    "                                                    1,\n",
    "                                                    activation_fn= tf.nn.softsign) + 1\n",
    "speaker_mean"
   ]
  },
  {
   "cell_type": "code",
   "execution_count": 13,
   "metadata": {},
   "outputs": [
    {
     "data": {
      "text/plain": [
       "<tf.Tensor 'Speaker_Std_Dev/add:0' shape=(32, 1) dtype=float32>"
      ]
     },
     "execution_count": 13,
     "metadata": {},
     "output_type": "execute_result"
    }
   ],
   "source": [
    "#Speaker embedding for std dev prediction\n",
    "with tf.variable_scope(\"Speaker_Std_Dev\"):\n",
    "    speaker_std_dev = tf.contrib.layers.fully_connected(speaker_matrix,\n",
    "                                                    1,\n",
    "                                                    activation_fn= tf.nn.softsign) + 1\n",
    "speaker_std_dev"
   ]
  },
  {
   "cell_type": "code",
   "execution_count": 14,
   "metadata": {},
   "outputs": [
    {
     "data": {
      "text/plain": [
       "<tf.Tensor 'AddN:0' shape=(32, 10, 1) dtype=float32>"
      ]
     },
     "execution_count": 14,
     "metadata": {},
     "output_type": "execute_result"
    }
   ],
   "source": [
    "#Filter bank with convolutions of different widths\n",
    "with tf.variable_scope(\"Filter_Bank\"):\n",
    "    filter_bank = []\n",
    "#    conv_input = tf.expand_dims(rnn_output1, axis = 3)\n",
    "    for i in conv_filter_widths:\n",
    "        filterx = tf.get_variable(\"filter\"+str(i), shape=[i, num_hidden_gru*2,1],\n",
    "           initializer=tf.contrib.layers.xavier_initializer())\n",
    "        conv =  tf.nn.conv1d(rnn_output1,\n",
    "                             filterx,\n",
    "                             1,\n",
    "                             \"SAME\")\n",
    "        filter_bank.append(conv)\n",
    "\n",
    "\n",
    "f_conv = tf.add_n(filter_bank)\n",
    "\n",
    "f_conv"
   ]
  },
  {
   "cell_type": "code",
   "execution_count": 15,
   "metadata": {},
   "outputs": [
    {
     "data": {
      "text/plain": [
       "<tf.Tensor 'Add:0' shape=(32, 10, 1) dtype=float32>"
      ]
     },
     "execution_count": 15,
     "metadata": {},
     "output_type": "execute_result"
    }
   ],
   "source": [
    "gamma = 1-omega\n",
    "\n",
    "freq = tf.add(tf.multiply(omega,f_GRU), tf.multiply(gamma,f_conv))\n",
    "freq"
   ]
  },
  {
   "cell_type": "code",
   "execution_count": 16,
   "metadata": {},
   "outputs": [],
   "source": [
    "std_dev = tf.Variable([dataset_std_dev],dtype = tf.float32)\n",
    "mean = tf.Variable([dataset_mean],dtype = tf.float32)"
   ]
  },
  {
   "cell_type": "code",
   "execution_count": 24,
   "metadata": {},
   "outputs": [
    {
     "name": "stdout",
     "output_type": "stream",
     "text": [
      "Tensor(\"Frequency_Prediction_7/Add:0\", shape=(32, 10, 1), dtype=float32)\n"
     ]
    }
   ],
   "source": [
    "with tf.variable_scope(\"Frequency_Prediction\"):\n",
    "    sp_std_dev = tf.expand_dims(speaker_std_dev,0)\n",
    "    sp_std_dev = tf.contrib.seq2seq.tile_batch(sp_std_dev,multiplier = max_num_phonemes)\n",
    "    sp_std_dev = tf.transpose(sp_std_dev,[1,0,2])\n",
    "\n",
    "    temp1 = tf.multiply(sp_std_dev,freq)\n",
    "    \n",
    "    temp1 = tf.scalar_mul(\n",
    "        std_dev[0],\n",
    "        temp1\n",
    "    )\n",
    "    sp_mean = tf.expand_dims(speaker_mean,0)\n",
    "    sp_mean = tf.contrib.seq2seq.tile_batch(sp_mean,multiplier = max_num_phonemes)\n",
    "    sp_mean = tf.transpose(sp_mean,[1,0,2])\n",
    "\n",
    "    temp2 = tf.scalar_mul(mean[0], sp_mean)\n",
    "    \n",
    "    FO_profile = tf.add(temp2, sp_mean)\n",
    "    \n",
    "F0_profile"
   ]
  },
  {
   "cell_type": "code",
   "execution_count": null,
   "metadata": {},
   "outputs": [],
   "source": []
  }
 ],
 "metadata": {
  "kernelspec": {
   "display_name": "Python 2",
   "language": "python",
   "name": "python2"
  },
  "language_info": {
   "codemirror_mode": {
    "name": "ipython",
    "version": 2
   },
   "file_extension": ".py",
   "mimetype": "text/x-python",
   "name": "python",
   "nbconvert_exporter": "python",
   "pygments_lexer": "ipython2",
   "version": "2.7.15"
  }
 },
 "nbformat": 4,
 "nbformat_minor": 2
}
