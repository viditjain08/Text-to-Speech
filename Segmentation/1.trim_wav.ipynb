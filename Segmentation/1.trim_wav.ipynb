{
 "cells": [
  {
   "cell_type": "code",
   "execution_count": 1,
   "metadata": {},
   "outputs": [],
   "source": [
    "import os\n",
    "from python_speech_features import mfcc\n",
    "import scipy.io.wavfile as wav\n",
    "import pandas as pd\n",
    "import pickle\n",
    "import math\n",
    "from pydub import AudioSegment"
   ]
  },
  {
   "cell_type": "code",
   "execution_count": 2,
   "metadata": {},
   "outputs": [],
   "source": [
    "\"\"\"getting directories for wav\"\"\"\n",
    "os.chdir(\"./VCTK-Corpus\") #path for the dataset goes here\n",
    "wav_dir = (os.getcwd()+'/wav48')"
   ]
  },
  {
   "cell_type": "code",
   "execution_count": 3,
   "metadata": {},
   "outputs": [],
   "source": [
    "\"\"\"getting all the directories containing wav files\"\"\"\n",
    "directories = []\n",
    "for dirpaths,dirnames,filenames in os.walk(wav_dir):\n",
    "    directories.append(dirpaths)\n",
    "directories = directories[1:] #ignoring current directory"
   ]
  },
  {
   "cell_type": "code",
   "execution_count": 4,
   "metadata": {},
   "outputs": [],
   "source": [
    "\"\"\"creating list of paths for all wav files\"\"\"\n",
    "files_wav = []\n",
    "for i in directories:\n",
    "    for dirpaths,dirnames,filenames in os.walk(i):\n",
    "        for j in filenames:\n",
    "            files_wav.append(i+'/'+j.split(\".\")[0]+\".wav\")"
   ]
  },
  {
   "cell_type": "code",
   "execution_count": 5,
   "metadata": {},
   "outputs": [
    {
     "name": "stdout",
     "output_type": "stream",
     "text": [
      "CPU times: user 1min 10s, sys: 10.8 s, total: 1min 21s\n",
      "Wall time: 3min 40s\n"
     ]
    }
   ],
   "source": [
    "%%time\n",
    "def detect_leading_silence(sound, silence_threshold=-50.0, chunk_size=10):\n",
    "    '''\n",
    "    sound is a pydub.AudioSegment\n",
    "    silence_threshold in dB\n",
    "    chunk_size in ms\n",
    "\n",
    "    iterate over chunks until you find the first one with sound\n",
    "    '''\n",
    "    trim_ms = 0 # ms\n",
    "\n",
    "    assert chunk_size > 0 # to avoid infinite loop\n",
    "    while sound[trim_ms:trim_ms+chunk_size].dBFS < silence_threshold and trim_ms < len(sound):\n",
    "        trim_ms += chunk_size\n",
    "\n",
    "    return trim_ms\n",
    "\n",
    "for i in files_wav:\n",
    "    try:\n",
    "        sound = AudioSegment.from_file(i, format=\"wav\")\n",
    "        start_trim = detect_leading_silence(sound,-35)\n",
    "        end_trim = detect_leading_silence(sound.reverse(),-45)\n",
    "        duration = len(sound)\n",
    "        if duration <800:\n",
    "            print i,duration\n",
    "        trimmed_sound = sound[start_trim:duration-end_trim]\n",
    "        trimmed_sound.export(i,format = \"wav\")\n",
    "        \n",
    "    except:\n",
    "        print i"
   ]
  },
  {
   "cell_type": "code",
   "execution_count": null,
   "metadata": {},
   "outputs": [],
   "source": []
  }
 ],
 "metadata": {
  "kernelspec": {
   "display_name": "Python 2",
   "language": "python",
   "name": "python2"
  },
  "language_info": {
   "codemirror_mode": {
    "name": "ipython",
    "version": 2
   },
   "file_extension": ".py",
   "mimetype": "text/x-python",
   "name": "python",
   "nbconvert_exporter": "python",
   "pygments_lexer": "ipython2",
   "version": "2.7.15"
  }
 },
 "nbformat": 4,
 "nbformat_minor": 2
}
