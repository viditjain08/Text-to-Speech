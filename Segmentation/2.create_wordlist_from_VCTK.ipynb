{
 "cells": [
  {
   "cell_type": "code",
   "execution_count": 1,
   "metadata": {},
   "outputs": [],
   "source": [
    "import os\n",
    "from python_speech_features import mfcc\n",
    "import scipy.io.wavfile as wav\n",
    "import pandas as pd\n",
    "import pickle\n",
    "import math\n",
    "import string"
   ]
  },
  {
   "cell_type": "code",
   "execution_count": 2,
   "metadata": {},
   "outputs": [],
   "source": [
    "#getting directories for wav and corresponding text file\n",
    "os.chdir(\"./VCTK-Corpus\") #path for the dataset goes here\n",
    "wav_dir = (os.getcwd()+'/wav48')\n",
    "text_dir = (os.getcwd()+'/txt')"
   ]
  },
  {
   "cell_type": "code",
   "execution_count": 3,
   "metadata": {},
   "outputs": [],
   "source": [
    "#getting all the directories containing wav files\n",
    "directories = []\n",
    "for dirpaths,dirnames,filenames in os.walk(wav_dir):\n",
    "    directories.append(dirpaths)\n",
    "directories = directories[1:] #ignoring current directory"
   ]
  },
  {
   "cell_type": "code",
   "execution_count": 4,
   "metadata": {},
   "outputs": [],
   "source": [
    "#creating list of paths for all wav files and corresponding path for text file in the dataset\n",
    "files_wav = []\n",
    "files_text = []\n",
    "for i in directories:\n",
    "    for dirpaths,dirnames,filenames in os.walk(i):\n",
    "        for j in filenames:\n",
    "            files_wav.append(i+'/'+j.split(\".\")[0]+\".wav\")\n",
    "            #print (i+'/'+j.split(\".\")[0]+\".wav\")\n",
    "            files_text.append(i.replace(\"wav48\",\"txt\")+'/'+j.split(\".\")[0]+\".txt\")\n",
    "            #print (i.replace(\"wav48\",\"txt\")+'/'+j.split(\".\")[0]+\".txt\")"
   ]
  },
  {
   "cell_type": "code",
   "execution_count": 5,
   "metadata": {},
   "outputs": [],
   "source": [
    "def strip_punctuation(s):\n",
    "        return ''.join(c for c in s if c not in '!\"#$%&\\()*+,./:;<=>?@[\\\\]^_`{|}~')\n",
    "\n",
    "words_set = set()\n",
    "for i in range(len(files_text)):\n",
    "    reader = open(files_text[i],\"r\")\n",
    "    text = reader.readline()\n",
    "    text = strip_punctuation(text)\n",
    "    for j in text.split():\n",
    "        words_set.add(j.upper())\n",
    "wordslist = list(words_set)"
   ]
  },
  {
   "cell_type": "code",
   "execution_count": 7,
   "metadata": {},
   "outputs": [],
   "source": [
    "F = open(\"words_temp\",\"w\")\n",
    "for i in wordslist:\n",
    "    F.write(i+\" \")\n",
    "F.close()\n",
    "    "
   ]
  },
  {
   "cell_type": "code",
   "execution_count": null,
   "metadata": {},
   "outputs": [],
   "source": []
  }
 ],
 "metadata": {
  "kernelspec": {
   "display_name": "Python 2",
   "language": "python",
   "name": "python2"
  },
  "language_info": {
   "codemirror_mode": {
    "name": "ipython",
    "version": 2
   },
   "file_extension": ".py",
   "mimetype": "text/x-python",
   "name": "python",
   "nbconvert_exporter": "python",
   "pygments_lexer": "ipython2",
   "version": "2.7.15"
  }
 },
 "nbformat": 4,
 "nbformat_minor": 2
}
